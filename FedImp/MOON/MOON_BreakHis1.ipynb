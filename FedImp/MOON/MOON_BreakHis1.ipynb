{
 "cells": [
  {
   "cell_type": "code",
   "execution_count": 1,
   "metadata": {
    "executionInfo": {
     "elapsed": 4,
     "status": "ok",
     "timestamp": 1689673696568,
     "user": {
      "displayName": "Mangaldeep Banerjee",
      "userId": "18312103571637317738"
     },
     "user_tz": -330
    },
    "id": "jKwSRTZvQKFW"
   },
   "outputs": [],
   "source": [
    "dataset = 'BreakHis1'\n",
    "method = 'MOON'\n",
    "i = 4\n",
    "learningRate = 0.001\n",
    "epoch = 10\n",
    "mu = 10\n",
    "tau = 0.5\n",
    "train_dir = '/DATA1/Mangaldeep/V3/Dataset/BreakHis1/train'\n",
    "val_dir = '/DATA1/Mangaldeep/V3/Dataset/BreakHis1/val'\n",
    "test_dir = '/DATA1/Mangaldeep/V3/Dataset/BreakHis1/test'\n",
    "base_weight_dir = '/DATA1/Mangaldeep/V3/Weight/MOON'\n",
    "base_log_dir = '/DATA1/Mangaldeep/V3/Log/MOON'\n",
    "avg_weight_dir = base_weight_dir+'/avg'+str(i)+'.pth'\n",
    "logfilepath = base_log_dir+'/'+str(method)+'_'+str(dataset)+'_'+str(i)+'.txt'"
   ]
  },
  {
   "cell_type": "code",
   "execution_count": 2,
   "metadata": {
    "colab": {
     "base_uri": "https://localhost:8080/"
    },
    "executionInfo": {
     "elapsed": 6104,
     "status": "ok",
     "timestamp": 1689673702669,
     "user": {
      "displayName": "Mangaldeep Banerjee",
      "userId": "18312103571637317738"
     },
     "user_tz": -330
    },
    "id": "4O3IsIt1QKIc",
    "outputId": "92cd51a7-b882-4c33-da97-94b6b5de7fb9"
   },
   "outputs": [],
   "source": [
    "# License: BSD\n",
    "# Author: Sasank Chilamkurthy\n",
    "\n",
    "from __future__ import print_function, division\n",
    "\n",
    "import os\n",
    "import time\n",
    "import copy\n",
    "import torch\n",
    "import torch.nn as nn\n",
    "import torch.optim as optim\n",
    "from torch.optim import lr_scheduler\n",
    "import torch.backends.cudnn as cudnn\n",
    "import numpy as np\n",
    "import torchvision\n",
    "from torchvision import datasets, models, transforms\n",
    "from torchvision.transforms import ToTensor,Resize,Normalize,RandomHorizontalFlip,RandomVerticalFlip,RandomCrop,CenterCrop\n",
    "from sklearn.metrics import accuracy_score,precision_recall_fscore_support,roc_curve,auc,roc_auc_score,classification_report\n",
    "from torch.nn.functional import cosine_similarity\n",
    "import matplotlib.pyplot as plt\n",
    "\n",
    "\n",
    "cudnn.benchmark = True\n",
    "plt.ion()   # interactive mode\n",
    "\n",
    "seed = 42\n",
    "torch.manual_seed(seed)\n",
    "torch.cuda.manual_seed(seed)\n",
    "torch.backends.cudnn.deterministic = True"
   ]
  },
  {
   "cell_type": "code",
   "execution_count": 3,
   "metadata": {
    "executionInfo": {
     "elapsed": 8828,
     "status": "ok",
     "timestamp": 1689673711495,
     "user": {
      "displayName": "Mangaldeep Banerjee",
      "userId": "18312103571637317738"
     },
     "user_tz": -330
    },
    "id": "g5ryTwu5QKLF"
   },
   "outputs": [],
   "source": [
    "# Data augmentation and normalization for training\n",
    "# Just normalization for validation\n",
    "data_transforms = {\n",
    "    'train': transforms.Compose([\n",
    "        Resize((256,256),interpolation=transforms.InterpolationMode.BICUBIC),\n",
    "        transforms.RandomCrop(224),\n",
    "        #transforms.RandomResizedCrop(size = (224,224)),\n",
    "        #transforms.CenterCrop(224),\n",
    "        transforms.RandomHorizontalFlip(p=0.3),\n",
    "        transforms.RandomVerticalFlip(p=0.3),\n",
    "        transforms.ToTensor(),\n",
    "        transforms.Normalize([0.485, 0.456, 0.406], [0.229, 0.224, 0.225])\n",
    "    ]),\n",
    "    'val': transforms.Compose([\n",
    "        #transforms.Resize(256),\n",
    "        Resize((256,256),interpolation=transforms.InterpolationMode.BICUBIC),\n",
    "        transforms.CenterCrop(224),\n",
    "        transforms.ToTensor(),\n",
    "        transforms.Normalize([0.485, 0.456, 0.406], [0.229, 0.224, 0.225])\n",
    "    ]),\n",
    "}\n",
    "\n",
    "#data_dir = 'data/hymenoptera_data'\n",
    "train_dataset = datasets.ImageFolder(train_dir,data_transforms['train'])\n",
    "test_dataset = datasets.ImageFolder(val_dir,data_transforms['val'])\n",
    "\n",
    "# define a loader for the training data we can iterate through in 32-image batches\n",
    "train_loader = torch.utils.data.DataLoader(\n",
    "        train_dataset,\n",
    "        batch_size=40,\n",
    "        num_workers=6,\n",
    "        shuffle=True\n",
    "    )\n",
    "\n",
    "# define a loader for the testing data we can iterate through in 32-image batches\n",
    "test_loader = torch.utils.data.DataLoader(\n",
    "        test_dataset,\n",
    "        batch_size=40,\n",
    "        num_workers=4,\n",
    "        shuffle=True\n",
    "    )\n",
    "\n",
    "dataset_sizes = {'train': len(train_dataset) ,'val': len(test_dataset)}\n",
    "class_names = train_dataset.classes\n",
    "device = torch.device(\"cuda:0\" if torch.cuda.is_available() else \"cpu\")\n",
    "sample_size = len(train_dataset)\n",
    "with open (logfilepath, 'a') as file:\n",
    "    file.writelines(f\"{method} training started for {dataset} dataset\")\n",
    "    file.writelines('\\n')\n",
    "    file.writelines(f\"{i}th round learning rate {learningRate} mu value {mu}\")\n",
    "    file.writelines('\\n')\n",
    "    file.writelines(f\"Train sample_size: {len(train_dataset)} ,validation: {len(test_dataset)}\")\n",
    "    file.writelines('\\n')"
   ]
  },
  {
   "cell_type": "code",
   "execution_count": 4,
   "metadata": {
    "executionInfo": {
     "elapsed": 7,
     "status": "ok",
     "timestamp": 1689673711495,
     "user": {
      "displayName": "Mangaldeep Banerjee",
      "userId": "18312103571637317738"
     },
     "user_tz": -330
    },
    "id": "w-iVoH-KQKN4"
   },
   "outputs": [],
   "source": [
    "##Global model and previous model\n",
    "if i >0 :\n",
    "    global_model_path = base_weight_dir+'/avg'+str(i-1)+'.pth'\n",
    "    prev_model_path = base_weight_dir+'/' +str(method)+'_'+str(dataset)+'_'+str(i-1)+'_'+str(sample_size)+'.pth'\n",
    "else:\n",
    "    global_model_path = base_weight_dir+'/avg'+str(0)+'.pth'\n",
    "    prev_model_path = base_weight_dir+'/avg'+str(0)+'.pth'\n",
    "\n",
    "temp_model = models.efficientnet_b3(weights=None)\n",
    "num_ftrs = temp_model.classifier[1].in_features\n",
    "temp_model.classifier[1] = nn.Linear(num_ftrs, 2)    \n",
    "global_model = copy.deepcopy(temp_model)\n",
    "prev_model = copy.deepcopy(temp_model)\n",
    "\n",
    "global_model.load_state_dict(torch.load(global_model_path))\n",
    "prev_model.load_state_dict(torch.load(prev_model_path))\n",
    "\n",
    "\n",
    "global_model = global_model.to(device)\n",
    "prev_model = prev_model.to(device)"
   ]
  },
  {
   "cell_type": "code",
   "execution_count": 5,
   "metadata": {},
   "outputs": [
    {
     "data": {
      "text/plain": [
       "'#NEw code\\nfrom torchvision.models.feature_extraction import create_feature_extractor\\ndef small_model(model):\\n    return_modes = {\"features.8\": \"features.8\"}\\n    model2 = create_feature_extractor(model,return_nodes=return_modes)\\n    return model2\\n\\ndef get_final_features(model, x, detach=True):\\n    func = (lambda x: x.clone().detach()) if detach else (lambda x: x)\\n    x = torch.flatten(x, start_dim=1)\\n    model2 = small_model(model)\\n    op = model2(x)\\n    print (op.shape)\\n    return func(x)'"
      ]
     },
     "execution_count": 5,
     "metadata": {},
     "output_type": "execute_result"
    }
   ],
   "source": [
    "'''#NEw code\n",
    "from torchvision.models.feature_extraction import create_feature_extractor\n",
    "def small_model(model):\n",
    "    return_modes = {\"features.8\": \"features.8\"}\n",
    "    model2 = create_feature_extractor(model,return_nodes=return_modes)\n",
    "    return model2\n",
    "\n",
    "def get_final_features(model, x, detach=True):\n",
    "    func = (lambda x: x.clone().detach()) if detach else (lambda x: x)\n",
    "    x = torch.flatten(x, start_dim=1)\n",
    "    model2 = small_model(model)\n",
    "    op = model2(x)\n",
    "    print (op.shape)\n",
    "    return func(x)'''"
   ]
  },
  {
   "cell_type": "code",
   "execution_count": 6,
   "metadata": {
    "executionInfo": {
     "elapsed": 4,
     "status": "ok",
     "timestamp": 1689673711495,
     "user": {
      "displayName": "Mangaldeep Banerjee",
      "userId": "18312103571637317738"
     },
     "user_tz": -330
    },
    "id": "SpwWv8vIQKQj"
   },
   "outputs": [],
   "source": [
    "def train_model(model,global_model,prev_model, criterion, optimizer, scheduler, num_epochs=25,mu=10,tau = 0.5):\n",
    "    since = time.time()\n",
    "    #change1\n",
    "    train_err = []\n",
    "    val_err = []\n",
    "    best_model_wts = copy.deepcopy(model.state_dict())\n",
    "    best_acc = 0.0\n",
    "    best_valLoss = 0.0\n",
    "    for epoch in range(num_epochs):\n",
    "        print(f'Epoch {epoch}/{num_epochs - 1}')\n",
    "        print('-' * 10)\n",
    "\n",
    "        # Each epoch has a training and validation phase\n",
    "        for phase in ['train', 'val']:\n",
    "            if phase == 'train':\n",
    "                model.train()  # Set model to training mode\n",
    "            else:\n",
    "                model.eval()   # Set model to evaluate mode\n",
    "\n",
    "            running_loss = 0.0\n",
    "            running_corrects = 0\n",
    "\n",
    "            if phase == 'train' :\n",
    "              dataloaders = train_loader\n",
    "            else :\n",
    "              dataloaders = test_loader\n",
    "            # Iterate over data.\n",
    "            for inputs, labels in dataloaders:\n",
    "                inputs = inputs.to(device)\n",
    "                labels = labels.to(device)\n",
    "                # zero the parameter gradients\n",
    "                optimizer.zero_grad()\n",
    "\n",
    "                # forward\n",
    "                # track history if only in train\n",
    "                with torch.set_grad_enabled(phase == 'train'):\n",
    "                  z_curr = model(inputs)\n",
    "                  #print(z_curr.grad_fn)\n",
    "                  z_global = global_model(inputs).detach()#.clone().detach()#.cpu().numpy()\n",
    "                  #z_global = torch.tensor(z_global,requires_grad=True).to(device)\n",
    "                  #print(z_curr.grad_fn)\n",
    "                  z_prev = prev_model(inputs).detach()#.clone().detach()#.cpu().numpy()\n",
    "                  #print(z_prev.grad_fn)\n",
    "                  #z_prev = torch.tensor(z_prev,requires_grad=True).to(device)\n",
    "                  logit = model(inputs)\n",
    "                  _, preds = torch.max(logit, 1)\n",
    "                  loss_sup = criterion(logit, labels)\n",
    "                  loss_con = -torch.log(\n",
    "                    torch.exp(\n",
    "                        cosine_similarity(z_curr.flatten(1), z_global.flatten(1))\n",
    "                        / tau)/ (\n",
    "                        torch.exp(\n",
    "                            cosine_similarity(z_prev.flatten(1), z_curr.flatten(1))\n",
    "                            / tau)\n",
    "                        + torch.exp(\n",
    "                            cosine_similarity(z_curr.flatten(1), z_global.flatten(1))\n",
    "                            / tau\n",
    "                        )))\n",
    "                  loss = loss_sup + mu * torch.mean(loss_con)\n",
    "                  if phase == 'train':\n",
    "                    #optimizer.zero_grad()\n",
    "                    loss.backward()\n",
    "                    optimizer.step()    \n",
    "                  #loss_con.requires_grad = True\n",
    "\n",
    "                  \n",
    "                  \n",
    "                    \n",
    "\n",
    "                # statistics\n",
    "                running_loss += loss.item() * inputs.size(0)\n",
    "                running_corrects += torch.sum(preds == labels.data)\n",
    "            if phase == 'train':\n",
    "                scheduler.step()\n",
    "\n",
    "            epoch_loss = running_loss / dataset_sizes[phase]\n",
    "            epoch_acc = running_corrects.double() / dataset_sizes[phase]\n",
    "            if phase == 'train':\n",
    "              train_err.append(epoch_loss)\n",
    "            else :\n",
    "              val_err.append(epoch_loss)\n",
    "\n",
    "            print(f'{phase} Loss: {epoch_loss:.4f} Acc: {epoch_acc:.4f}')\n",
    "            with open (logfilepath, 'a') as file:\n",
    "              file.writelines(f'{phase} Loss: {epoch_loss:.4f} Acc: {epoch_acc:.4f}')\n",
    "              file.writelines('\\n')\n",
    "\n",
    "            # deep copy the model\n",
    "            if phase == 'val' and epoch_acc > best_acc:\n",
    "                best_acc = epoch_acc\n",
    "                best_model_wts = copy.deepcopy(model.state_dict())\n",
    "                best_valLoss = epoch_loss\n",
    "\n",
    "        print()\n",
    "\n",
    "    time_elapsed = time.time() - since\n",
    "    print(f'Training complete in {time_elapsed // 60:.0f}m {time_elapsed % 60:.0f}s')\n",
    "    print(f'Best val Acc: {best_acc:4f} Validation loss : {best_valLoss:4f}')\n",
    "    with open (logfilepath, 'a') as file:\n",
    "              file.writelines(f'Training complete in {time_elapsed // 60:.0f}m {time_elapsed % 60:.0f}s')\n",
    "              file.writelines('\\n')\n",
    "              file.writelines(f'Best val Acc: {best_acc:4f} Validation loss : {best_valLoss:4f}')\n",
    "              file.writelines('\\n')\n",
    "              file.writelines(f'Training error = {train_err}')\n",
    "              file.writelines('\\n')\n",
    "              file.writelines(f'Validation error = {val_err}')\n",
    "              file.writelines('\\n')\n",
    "\n",
    "\n",
    "    # load best model weights\n",
    "    model.load_state_dict(best_model_wts)\n",
    "    return model"
   ]
  },
  {
   "cell_type": "code",
   "execution_count": 7,
   "metadata": {
    "executionInfo": {
     "elapsed": 8044,
     "status": "ok",
     "timestamp": 1689673719536,
     "user": {
      "displayName": "Mangaldeep Banerjee",
      "userId": "18312103571637317738"
     },
     "user_tz": -330
    },
    "id": "2NiNagp-QKTj"
   },
   "outputs": [],
   "source": [
    "model_ft = models.efficientnet_b3(weights=None)\n",
    "num_ftrs = model_ft.classifier[1].in_features\n",
    "model_ft.classifier[1] = nn.Linear(num_ftrs, 2)\n",
    "\n",
    "if avg_weight_dir != '':\n",
    "  model_ft.load_state_dict(torch.load(avg_weight_dir,map_location = 'cpu'))\n",
    "\n",
    "\n",
    "model_ft = model_ft.to(device)\n",
    "model_ft.train()\n",
    "criterion = nn.CrossEntropyLoss()\n",
    "\n",
    "# Observe that all parameters are being optimized\n",
    "#optimizer_ft = optim.SGD(model_ft.parameters(), lr=learningRate, momentum=0.9)\n",
    "optimizer_ft = optim.Adam(model_ft.parameters(), lr=learningRate)\n",
    "# Decay LR by a factor of 0.1 every 7 epochs\n",
    "exp_lr_scheduler = lr_scheduler.StepLR(optimizer_ft, step_size=7, gamma=0.5)"
   ]
  },
  {
   "cell_type": "code",
   "execution_count": null,
   "metadata": {
    "executionInfo": {
     "elapsed": 14,
     "status": "ok",
     "timestamp": 1689673719536,
     "user": {
      "displayName": "Mangaldeep Banerjee",
      "userId": "18312103571637317738"
     },
     "user_tz": -330
    },
    "id": "gpzqVi5Xeowg"
   },
   "outputs": [],
   "source": []
  },
  {
   "cell_type": "code",
   "execution_count": 8,
   "metadata": {
    "colab": {
     "base_uri": "https://localhost:8080/"
    },
    "executionInfo": {
     "elapsed": 1805668,
     "status": "ok",
     "timestamp": 1689675525191,
     "user": {
      "displayName": "Mangaldeep Banerjee",
      "userId": "18312103571637317738"
     },
     "user_tz": -330
    },
    "id": "_7uDcdZ_QKWb",
    "outputId": "37e4b3fb-5706-4675-b539-ed91849f0ece"
   },
   "outputs": [
    {
     "name": "stdout",
     "output_type": "stream",
     "text": [
      "Epoch 0/9\n",
      "----------\n"
     ]
    },
    {
     "name": "stdout",
     "output_type": "stream",
     "text": [
      "train Loss: 7.5895 Acc: 0.5481\n",
      "val Loss: 3.8572 Acc: 0.3333\n",
      "\n",
      "Epoch 1/9\n",
      "----------\n",
      "train Loss: 3.5994 Acc: 0.3615\n",
      "val Loss: 2.0006 Acc: 0.3131\n",
      "\n",
      "Epoch 2/9\n",
      "----------\n",
      "train Loss: 2.1798 Acc: 0.3372\n",
      "val Loss: 1.5573 Acc: 0.3131\n",
      "\n",
      "Epoch 3/9\n",
      "----------\n",
      "train Loss: 1.8073 Acc: 0.3529\n",
      "val Loss: 1.8947 Acc: 0.3131\n",
      "\n",
      "Epoch 4/9\n",
      "----------\n",
      "train Loss: 1.7880 Acc: 0.3443\n",
      "val Loss: 1.7263 Acc: 0.3232\n",
      "\n",
      "Epoch 5/9\n",
      "----------\n",
      "train Loss: 1.7056 Acc: 0.3587\n",
      "val Loss: 2.2309 Acc: 0.2626\n",
      "\n",
      "Epoch 6/9\n",
      "----------\n",
      "train Loss: 1.9656 Acc: 0.3429\n",
      "val Loss: 1.7085 Acc: 0.3131\n",
      "\n",
      "Epoch 7/9\n",
      "----------\n",
      "train Loss: 1.8856 Acc: 0.3902\n",
      "val Loss: 1.4621 Acc: 0.3333\n",
      "\n",
      "Epoch 8/9\n",
      "----------\n",
      "train Loss: 1.7519 Acc: 0.3630\n",
      "val Loss: 1.7393 Acc: 0.3232\n",
      "\n",
      "Epoch 9/9\n",
      "----------\n",
      "train Loss: 1.7639 Acc: 0.3501\n",
      "val Loss: 1.5295 Acc: 0.3434\n",
      "\n",
      "Training complete in 1m 13s\n",
      "Best val Acc: 0.343434 Validation loss : 1.529516\n"
     ]
    }
   ],
   "source": [
    "model_ft = train_model(model_ft,global_model,prev_model, criterion, optimizer_ft, exp_lr_scheduler,\n",
    "                       num_epochs=epoch,mu=mu)"
   ]
  },
  {
   "cell_type": "code",
   "execution_count": 9,
   "metadata": {},
   "outputs": [],
   "source": [
    "for name, param in model_ft.named_parameters():\n",
    "    if not param.requires_grad:\n",
    "        print(f\"Parameter {name} does not require gradients.\")\n"
   ]
  },
  {
   "cell_type": "code",
   "execution_count": 10,
   "metadata": {
    "executionInfo": {
     "elapsed": 15,
     "status": "ok",
     "timestamp": 1689675525192,
     "user": {
      "displayName": "Mangaldeep Banerjee",
      "userId": "18312103571637317738"
     },
     "user_tz": -330
    },
    "id": "CK-hlHF3enMp"
   },
   "outputs": [
    {
     "name": "stdout",
     "output_type": "stream",
     "text": [
      "(['x', 'features.0', 'features.1.0.block.0', 'features.1.0.block.1', 'features.1.0.block.2', 'features.1.1.block.0', 'features.1.1.block.1', 'features.1.1.block.2', 'features.1.1.stochastic_depth', 'features.1.1.add', 'features.2.0.block.0', 'features.2.0.block.1', 'features.2.0.block.2', 'features.2.0.block.3', 'features.2.1.block.0', 'features.2.1.block.1', 'features.2.1.block.2', 'features.2.1.block.3', 'features.2.1.stochastic_depth', 'features.2.1.add', 'features.2.2.block.0', 'features.2.2.block.1', 'features.2.2.block.2', 'features.2.2.block.3', 'features.2.2.stochastic_depth', 'features.2.2.add', 'features.3.0.block.0', 'features.3.0.block.1', 'features.3.0.block.2', 'features.3.0.block.3', 'features.3.1.block.0', 'features.3.1.block.1', 'features.3.1.block.2', 'features.3.1.block.3', 'features.3.1.stochastic_depth', 'features.3.1.add', 'features.3.2.block.0', 'features.3.2.block.1', 'features.3.2.block.2', 'features.3.2.block.3', 'features.3.2.stochastic_depth', 'features.3.2.add', 'features.4.0.block.0', 'features.4.0.block.1', 'features.4.0.block.2', 'features.4.0.block.3', 'features.4.1.block.0', 'features.4.1.block.1', 'features.4.1.block.2', 'features.4.1.block.3', 'features.4.1.stochastic_depth', 'features.4.1.add', 'features.4.2.block.0', 'features.4.2.block.1', 'features.4.2.block.2', 'features.4.2.block.3', 'features.4.2.stochastic_depth', 'features.4.2.add', 'features.4.3.block.0', 'features.4.3.block.1', 'features.4.3.block.2', 'features.4.3.block.3', 'features.4.3.stochastic_depth', 'features.4.3.add', 'features.4.4.block.0', 'features.4.4.block.1', 'features.4.4.block.2', 'features.4.4.block.3', 'features.4.4.stochastic_depth', 'features.4.4.add', 'features.5.0.block.0', 'features.5.0.block.1', 'features.5.0.block.2', 'features.5.0.block.3', 'features.5.1.block.0', 'features.5.1.block.1', 'features.5.1.block.2', 'features.5.1.block.3', 'features.5.1.stochastic_depth', 'features.5.1.add', 'features.5.2.block.0', 'features.5.2.block.1', 'features.5.2.block.2', 'features.5.2.block.3', 'features.5.2.stochastic_depth', 'features.5.2.add', 'features.5.3.block.0', 'features.5.3.block.1', 'features.5.3.block.2', 'features.5.3.block.3', 'features.5.3.stochastic_depth', 'features.5.3.add', 'features.5.4.block.0', 'features.5.4.block.1', 'features.5.4.block.2', 'features.5.4.block.3', 'features.5.4.stochastic_depth', 'features.5.4.add', 'features.6.0.block.0', 'features.6.0.block.1', 'features.6.0.block.2', 'features.6.0.block.3', 'features.6.1.block.0', 'features.6.1.block.1', 'features.6.1.block.2', 'features.6.1.block.3', 'features.6.1.stochastic_depth', 'features.6.1.add', 'features.6.2.block.0', 'features.6.2.block.1', 'features.6.2.block.2', 'features.6.2.block.3', 'features.6.2.stochastic_depth', 'features.6.2.add', 'features.6.3.block.0', 'features.6.3.block.1', 'features.6.3.block.2', 'features.6.3.block.3', 'features.6.3.stochastic_depth', 'features.6.3.add', 'features.6.4.block.0', 'features.6.4.block.1', 'features.6.4.block.2', 'features.6.4.block.3', 'features.6.4.stochastic_depth', 'features.6.4.add', 'features.6.5.block.0', 'features.6.5.block.1', 'features.6.5.block.2', 'features.6.5.block.3', 'features.6.5.stochastic_depth', 'features.6.5.add', 'features.7.0.block.0', 'features.7.0.block.1', 'features.7.0.block.2', 'features.7.0.block.3', 'features.7.1.block.0', 'features.7.1.block.1', 'features.7.1.block.2', 'features.7.1.block.3', 'features.7.1.stochastic_depth', 'features.7.1.add', 'features.8', 'avgpool', 'flatten', 'classifier.0', 'classifier.1'], ['x', 'features.0', 'features.1.0.block.0', 'features.1.0.block.1', 'features.1.0.block.2', 'features.1.1.block.0', 'features.1.1.block.1', 'features.1.1.block.2', 'features.1.1.stochastic_depth', 'features.1.1.add', 'features.2.0.block.0', 'features.2.0.block.1', 'features.2.0.block.2', 'features.2.0.block.3', 'features.2.1.block.0', 'features.2.1.block.1', 'features.2.1.block.2', 'features.2.1.block.3', 'features.2.1.stochastic_depth', 'features.2.1.add', 'features.2.2.block.0', 'features.2.2.block.1', 'features.2.2.block.2', 'features.2.2.block.3', 'features.2.2.stochastic_depth', 'features.2.2.add', 'features.3.0.block.0', 'features.3.0.block.1', 'features.3.0.block.2', 'features.3.0.block.3', 'features.3.1.block.0', 'features.3.1.block.1', 'features.3.1.block.2', 'features.3.1.block.3', 'features.3.1.stochastic_depth', 'features.3.1.add', 'features.3.2.block.0', 'features.3.2.block.1', 'features.3.2.block.2', 'features.3.2.block.3', 'features.3.2.stochastic_depth', 'features.3.2.add', 'features.4.0.block.0', 'features.4.0.block.1', 'features.4.0.block.2', 'features.4.0.block.3', 'features.4.1.block.0', 'features.4.1.block.1', 'features.4.1.block.2', 'features.4.1.block.3', 'features.4.1.stochastic_depth', 'features.4.1.add', 'features.4.2.block.0', 'features.4.2.block.1', 'features.4.2.block.2', 'features.4.2.block.3', 'features.4.2.stochastic_depth', 'features.4.2.add', 'features.4.3.block.0', 'features.4.3.block.1', 'features.4.3.block.2', 'features.4.3.block.3', 'features.4.3.stochastic_depth', 'features.4.3.add', 'features.4.4.block.0', 'features.4.4.block.1', 'features.4.4.block.2', 'features.4.4.block.3', 'features.4.4.stochastic_depth', 'features.4.4.add', 'features.5.0.block.0', 'features.5.0.block.1', 'features.5.0.block.2', 'features.5.0.block.3', 'features.5.1.block.0', 'features.5.1.block.1', 'features.5.1.block.2', 'features.5.1.block.3', 'features.5.1.stochastic_depth', 'features.5.1.add', 'features.5.2.block.0', 'features.5.2.block.1', 'features.5.2.block.2', 'features.5.2.block.3', 'features.5.2.stochastic_depth', 'features.5.2.add', 'features.5.3.block.0', 'features.5.3.block.1', 'features.5.3.block.2', 'features.5.3.block.3', 'features.5.3.stochastic_depth', 'features.5.3.add', 'features.5.4.block.0', 'features.5.4.block.1', 'features.5.4.block.2', 'features.5.4.block.3', 'features.5.4.stochastic_depth', 'features.5.4.add', 'features.6.0.block.0', 'features.6.0.block.1', 'features.6.0.block.2', 'features.6.0.block.3', 'features.6.1.block.0', 'features.6.1.block.1', 'features.6.1.block.2', 'features.6.1.block.3', 'features.6.1.stochastic_depth', 'features.6.1.add', 'features.6.2.block.0', 'features.6.2.block.1', 'features.6.2.block.2', 'features.6.2.block.3', 'features.6.2.stochastic_depth', 'features.6.2.add', 'features.6.3.block.0', 'features.6.3.block.1', 'features.6.3.block.2', 'features.6.3.block.3', 'features.6.3.stochastic_depth', 'features.6.3.add', 'features.6.4.block.0', 'features.6.4.block.1', 'features.6.4.block.2', 'features.6.4.block.3', 'features.6.4.stochastic_depth', 'features.6.4.add', 'features.6.5.block.0', 'features.6.5.block.1', 'features.6.5.block.2', 'features.6.5.block.3', 'features.6.5.stochastic_depth', 'features.6.5.add', 'features.7.0.block.0', 'features.7.0.block.1', 'features.7.0.block.2', 'features.7.0.block.3', 'features.7.1.block.0', 'features.7.1.block.1', 'features.7.1.block.2', 'features.7.1.block.3', 'features.7.1.stochastic_depth', 'features.7.1.add', 'features.8', 'avgpool', 'flatten', 'classifier.0', 'classifier.1'])\n"
     ]
    }
   ],
   "source": [
    "from torchvision.models.feature_extraction import get_graph_node_names\n",
    "print(get_graph_node_names(model_ft))"
   ]
  },
  {
   "cell_type": "code",
   "execution_count": null,
   "metadata": {},
   "outputs": [],
   "source": []
  },
  {
   "cell_type": "code",
   "execution_count": 11,
   "metadata": {
    "executionInfo": {
     "elapsed": 5,
     "status": "ok",
     "timestamp": 1689675525192,
     "user": {
      "displayName": "Mangaldeep Banerjee",
      "userId": "18312103571637317738"
     },
     "user_tz": -330
    },
    "id": "B1_MaB_GQKZL"
   },
   "outputs": [],
   "source": [
    "model_weight_dir = base_weight_dir+'/' +str(method)+'_'+str(dataset)+'_'+str(i)+'_'+str(sample_size)+'.pth'\n",
    "torch.save(model_ft.state_dict(), model_weight_dir)"
   ]
  },
  {
   "cell_type": "code",
   "execution_count": 12,
   "metadata": {
    "colab": {
     "base_uri": "https://localhost:8080/"
    },
    "executionInfo": {
     "elapsed": 57636,
     "status": "ok",
     "timestamp": 1689675582824,
     "user": {
      "displayName": "Mangaldeep Banerjee",
      "userId": "18312103571637317738"
     },
     "user_tz": -330
    },
    "id": "8DYDd5CnQKcK",
    "outputId": "91de4ec4-a8df-4389-8ce4-50a2e311de37"
   },
   "outputs": [
    {
     "name": "stdout",
     "output_type": "stream",
     "text": [
      "accuracy = 0.4 , precision = 0.56,recall = 0.54,fscore = 0.39,,auc_score = 0.47\n",
      "              precision    recall  f1-score   support\n",
      "\n",
      "           0       0.33      0.89      0.48        63\n",
      "           1       0.78      0.18      0.30       137\n",
      "\n",
      "    accuracy                           0.41       200\n",
      "   macro avg       0.56      0.54      0.39       200\n",
      "weighted avg       0.64      0.41      0.36       200\n",
      "\n"
     ]
    }
   ],
   "source": [
    "test_dataset = datasets.ImageFolder(test_dir, transform=data_transforms['val'])\n",
    "class_names = test_dataset.classes\n",
    "test_loader = torch.utils.data.DataLoader(\n",
    "        test_dataset,\n",
    "        batch_size=1,\n",
    "        num_workers=0,\n",
    "        shuffle=False\n",
    "    )\n",
    "model_ft.eval()\n",
    "with torch.no_grad():\n",
    "  y_true=[]\n",
    "  y_pred=[]\n",
    "  y_probas = []\n",
    "  for i, (inputs, labels) in enumerate(test_loader):\n",
    "    inputs = inputs.to(device)\n",
    "    labels = labels.to(device)\n",
    "    y_true.append(labels.detach().cpu().numpy())\n",
    "    model_ft.to(device)\n",
    "    outputs = model_ft(inputs)\n",
    "    outputs = nn.Softmax(dim=1)(outputs)\n",
    "    max, preds = torch.max(outputs, 1)\n",
    "    y_probas.append(outputs.cpu().numpy())\n",
    "    y_pred.append(int(preds.detach().cpu().numpy()))\n",
    "\n",
    "\n",
    "y_true = np.array(y_true)\n",
    "y_pred = np.array(y_pred)\n",
    "prob = np.array(y_probas)\n",
    "acc = accuracy_score(y_true,y_pred)\n",
    "y_probas = prob.reshape(prob.shape[0],prob.shape[2])\n",
    "precision,recall,fscore,_=precision_recall_fscore_support(y_true, y_pred, average='macro')\n",
    "auc_score = roc_auc_score(y_true, y_probas[:,1])\n",
    "precision,recall,fscore,_=precision_recall_fscore_support(y_true, y_pred, average='macro')\n",
    "print(f\"accuracy = {round(acc,2)} , precision = {round(precision,2)},recall = {round(recall,2)},fscore = {round(fscore,2)},,auc_score = {round(auc_score,2)}\")\n",
    "print(classification_report(y_true,y_pred))\n",
    "with open (logfilepath, 'a') as file:\n",
    "    file.writelines(f\"accuracy = {round(acc,2)} , precision = {round(precision,2)},recall = {round(recall,2)},fscore = {round(fscore,2)},,auc_score = {round(auc_score,2)}\")\n",
    "    file.writelines('\\n')\n",
    "    file.writelines(classification_report(y_true,y_pred))\n",
    "    file.writelines('\\n')"
   ]
  },
  {
   "cell_type": "code",
   "execution_count": null,
   "metadata": {
    "executionInfo": {
     "elapsed": 6,
     "status": "ok",
     "timestamp": 1689675582825,
     "user": {
      "displayName": "Mangaldeep Banerjee",
      "userId": "18312103571637317738"
     },
     "user_tz": -330
    },
    "id": "nVLAjBcnfyKe"
   },
   "outputs": [],
   "source": []
  },
  {
   "cell_type": "code",
   "execution_count": null,
   "metadata": {
    "executionInfo": {
     "elapsed": 5,
     "status": "ok",
     "timestamp": 1689675582825,
     "user": {
      "displayName": "Mangaldeep Banerjee",
      "userId": "18312103571637317738"
     },
     "user_tz": -330
    },
    "id": "2jKIIy8TuHzQ"
   },
   "outputs": [],
   "source": []
  }
 ],
 "metadata": {
  "accelerator": "GPU",
  "colab": {
   "provenance": []
  },
  "kernelspec": {
   "display_name": "Python 3 (ipykernel)",
   "language": "python",
   "name": "python3"
  },
  "language_info": {
   "codemirror_mode": {
    "name": "ipython",
    "version": 3
   },
   "file_extension": ".py",
   "mimetype": "text/x-python",
   "name": "python",
   "nbconvert_exporter": "python",
   "pygments_lexer": "ipython3",
   "version": "3.8.10"
  }
 },
 "nbformat": 4,
 "nbformat_minor": 1
}
