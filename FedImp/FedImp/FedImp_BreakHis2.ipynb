{
 "cells": [
  {
   "cell_type": "code",
   "execution_count": 1,
   "metadata": {
    "colab": {
     "base_uri": "https://localhost:8080/"
    },
    "executionInfo": {
     "elapsed": 32486,
     "status": "ok",
     "timestamp": 1689673696567,
     "user": {
      "displayName": "Mangaldeep Banerjee",
      "userId": "18312103571637317738"
     },
     "user_tz": -330
    },
    "id": "ml8Zlt0HQDW_",
    "outputId": "e6d50ece-95fc-45ad-8801-b4d42a2a12b8"
   },
   "outputs": [],
   "source": [
    "import os\n",
    "os.environ[\"CUDA_DEVICE_ORDER\"]=\"PCI_BUS_ID\"\n",
    "os.environ[\"CUDA_VISIBLE_DEVICES\"]=\"0\""
   ]
  },
  {
   "cell_type": "code",
   "execution_count": 2,
   "metadata": {
    "executionInfo": {
     "elapsed": 4,
     "status": "ok",
     "timestamp": 1689673696568,
     "user": {
      "displayName": "Mangaldeep Banerjee",
      "userId": "18312103571637317738"
     },
     "user_tz": -330
    },
    "id": "jKwSRTZvQKFW"
   },
   "outputs": [],
   "source": [
    "dataset = 'BreakHis2'\n",
    "method = 'FedSync'\n",
    "i = 9\n",
    "epoch = 10\n",
    "learningRate = 0.001\n",
    "weightDecay = 0\n",
    "mu_val = 0.05\n",
    "train_dir = '/DATA1/Mangaldeep/V3/Dataset/BreakHis2/train'\n",
    "val_dir = '/DATA1/Mangaldeep/V3/Dataset/BreakHis2/val'\n",
    "test_dir = '/DATA1/Mangaldeep/V3/Dataset/BreakHis2/test'\n",
    "base_weight_dir = '/DATA1/Mangaldeep/V3/Weight/FedSync'\n",
    "base_log_dir = '/DATA1/Mangaldeep/V3/Log/FedSync'\n",
    "avg_weight_dir = base_weight_dir+'/avg'+str(i)+'.pth'\n",
    "logfilepath = base_log_dir+'/'+str(method)+'_'+str(dataset)+'_'+str(i)+'.txt'\n",
    "\n"
   ]
  },
  {
   "cell_type": "code",
   "execution_count": 3,
   "metadata": {
    "colab": {
     "base_uri": "https://localhost:8080/"
    },
    "executionInfo": {
     "elapsed": 6104,
     "status": "ok",
     "timestamp": 1689673702669,
     "user": {
      "displayName": "Mangaldeep Banerjee",
      "userId": "18312103571637317738"
     },
     "user_tz": -330
    },
    "id": "4O3IsIt1QKIc",
    "outputId": "92cd51a7-b882-4c33-da97-94b6b5de7fb9"
   },
   "outputs": [],
   "source": [
    "# License: BSD\n",
    "# Author: Sasank Chilamkurthy\n",
    "\n",
    "from __future__ import print_function, division\n",
    "\n",
    "import os\n",
    "import time\n",
    "import copy\n",
    "import torch\n",
    "import torch.nn as nn\n",
    "import torch.optim as optim\n",
    "from torch.optim import lr_scheduler\n",
    "import torch.backends.cudnn as cudnn\n",
    "import numpy as np\n",
    "import torchvision\n",
    "from torchvision import datasets, models, transforms\n",
    "from torchvision.transforms import ToTensor,Resize,Normalize,RandomHorizontalFlip,RandomVerticalFlip,RandomCrop,CenterCrop\n",
    "from sklearn.metrics import accuracy_score,precision_recall_fscore_support,roc_curve,auc,roc_auc_score,classification_report\n",
    "import matplotlib.pyplot as plt\n",
    "\n",
    "\n",
    "cudnn.benchmark = True\n",
    "plt.ion()   # interactive mode\n",
    "\n",
    "seed = 42\n",
    "torch.manual_seed(seed)\n",
    "torch.cuda.manual_seed(seed)\n",
    "torch.backends.cudnn.deterministic = True"
   ]
  },
  {
   "cell_type": "code",
   "execution_count": 4,
   "metadata": {
    "executionInfo": {
     "elapsed": 8828,
     "status": "ok",
     "timestamp": 1689673711495,
     "user": {
      "displayName": "Mangaldeep Banerjee",
      "userId": "18312103571637317738"
     },
     "user_tz": -330
    },
    "id": "g5ryTwu5QKLF"
   },
   "outputs": [],
   "source": [
    "# Data augmentation and normalization for training\n",
    "# Just normalization for validation\n",
    "data_transforms = {\n",
    "    'train': transforms.Compose([\n",
    "        Resize((256,256),interpolation=transforms.InterpolationMode.BICUBIC),\n",
    "        transforms.RandomCrop(224),\n",
    "        #transforms.RandomResizedCrop(size = (224,224)),\n",
    "        #transforms.CenterCrop(224),\n",
    "        transforms.RandomHorizontalFlip(p=0.3),\n",
    "        transforms.RandomVerticalFlip(p=0.3),\n",
    "        transforms.ToTensor(),\n",
    "        transforms.Normalize([0.485, 0.456, 0.406], [0.229, 0.224, 0.225])\n",
    "    ]),\n",
    "    'val': transforms.Compose([\n",
    "        #transforms.Resize(256),\n",
    "        Resize((256,256),interpolation=transforms.InterpolationMode.BICUBIC),\n",
    "        transforms.CenterCrop(224),\n",
    "        transforms.ToTensor(),\n",
    "        transforms.Normalize([0.485, 0.456, 0.406], [0.229, 0.224, 0.225])\n",
    "    ]),\n",
    "}\n",
    "\n",
    "#data_dir = 'data/hymenoptera_data'\n",
    "train_dataset = datasets.ImageFolder(train_dir,data_transforms['train'])\n",
    "test_dataset = datasets.ImageFolder(val_dir,data_transforms['val'])\n",
    "\n",
    "# define a loader for the training data we can iterate through in 32-image batches\n",
    "train_loader = torch.utils.data.DataLoader(\n",
    "        train_dataset,\n",
    "        batch_size=40,\n",
    "        num_workers=4,\n",
    "        shuffle=True\n",
    "    )\n",
    "\n",
    "# define a loader for the testing data we can iterate through in 32-image batches\n",
    "test_loader = torch.utils.data.DataLoader(\n",
    "        test_dataset,\n",
    "        batch_size=20,\n",
    "        num_workers=2,\n",
    "        shuffle=True\n",
    "    )\n",
    "\n",
    "dataset_sizes = {'train': len(train_dataset) ,'val': len(test_dataset)}\n",
    "class_names = train_dataset.classes\n",
    "device = torch.device(\"cuda:0\" if torch.cuda.is_available() else \"cpu\")\n",
    "sample_size = len(train_dataset)\n",
    "with open (logfilepath, 'a') as file:\n",
    "    file.writelines(f\"{method} training started for {dataset} dataset\")\n",
    "    file.writelines('\\n')\n",
    "    file.writelines(f\"{i}th round learning rate {learningRate} mu value {mu_val}\")\n",
    "    file.writelines('\\n')\n",
    "    file.writelines(f\"Train sample_size: {len(train_dataset)} ,validation: {len(test_dataset)}\")\n",
    "    file.writelines('\\n')"
   ]
  },
  {
   "cell_type": "code",
   "execution_count": 5,
   "metadata": {
    "executionInfo": {
     "elapsed": 7,
     "status": "ok",
     "timestamp": 1689673711495,
     "user": {
      "displayName": "Mangaldeep Banerjee",
      "userId": "18312103571637317738"
     },
     "user_tz": -330
    },
    "id": "w-iVoH-KQKN4"
   },
   "outputs": [],
   "source": [
    "train_err = []\n",
    "val_err = []"
   ]
  },
  {
   "cell_type": "code",
   "execution_count": 6,
   "metadata": {
    "executionInfo": {
     "elapsed": 4,
     "status": "ok",
     "timestamp": 1689673711495,
     "user": {
      "displayName": "Mangaldeep Banerjee",
      "userId": "18312103571637317738"
     },
     "user_tz": -330
    },
    "id": "SpwWv8vIQKQj"
   },
   "outputs": [],
   "source": [
    "def difference_models_norm_2(model_1, model_2):\n",
    "    \"\"\"Return the norm 2 difference between the two model parameters\n",
    "    \"\"\"\n",
    "\n",
    "    tensor_1=list(model_1.classifier[1].parameters())\n",
    "    tensor_2=list(model_2.classifier[1].parameters())\n",
    "\n",
    "    norm=sum([torch.sum((tensor_1[i]-tensor_2[i])**2)\n",
    "        for i in range(len(tensor_1))])\n",
    "\n",
    "    return norm\n",
    "\n",
    "def train_model(model, criterion, optimizer, scheduler, num_epochs=25,mu=0.5):\n",
    "    since = time.time()\n",
    "    #change1\n",
    "    model_0 = copy.deepcopy(model)\n",
    "    best_model_wts = copy.deepcopy(model.state_dict())\n",
    "    best_acc = 0.0\n",
    "    best_valLoss = 0.0\n",
    "    for epoch in range(num_epochs):\n",
    "        print(f'Epoch {epoch}/{num_epochs - 1}')\n",
    "        print('-' * 10)\n",
    "\n",
    "        # Each epoch has a training and validation phase\n",
    "        for phase in ['train', 'val']:\n",
    "            if phase == 'train':\n",
    "                model.train()  # Set model to training mode\n",
    "            else:\n",
    "                model.eval()   # Set model to evaluate mode\n",
    "\n",
    "            running_loss = 0.0\n",
    "            running_corrects = 0\n",
    "\n",
    "            if phase == 'train' :\n",
    "              dataloaders = train_loader\n",
    "            else :\n",
    "              dataloaders = test_loader\n",
    "            # Iterate over data.\n",
    "            for inputs, labels in dataloaders:\n",
    "                inputs = inputs.to(device)\n",
    "                labels = labels.to(device)\n",
    "                #print(len(labels))\n",
    "                #print(labels)\n",
    "\n",
    "                # zero the parameter gradients\n",
    "                optimizer.zero_grad()\n",
    "\n",
    "                # forward\n",
    "                # track history if only in train\n",
    "                with torch.set_grad_enabled(phase == 'train'):\n",
    "                    outputs = model(inputs)\n",
    "                    _, preds = torch.max(outputs, 1)\n",
    "                    loss = criterion(outputs, labels)\n",
    "                    #print(loss)\n",
    "                    loss += len(labels)*mu/2*difference_models_norm_2(model,model_0)\n",
    "\n",
    "                    # backward + optimize only if in training phase\n",
    "                    if phase == 'train':\n",
    "                        loss.backward()\n",
    "                        optimizer.step()\n",
    "\n",
    "                # statistics\n",
    "                running_loss += loss.item() * inputs.size(0)\n",
    "                running_corrects += torch.sum(preds == labels.data)\n",
    "            if phase == 'train':\n",
    "                scheduler.step()\n",
    "\n",
    "            epoch_loss = running_loss / dataset_sizes[phase]\n",
    "            epoch_acc = running_corrects.double() / dataset_sizes[phase]\n",
    "            if phase == 'train':\n",
    "              train_err.append(epoch_loss)\n",
    "            else :\n",
    "              val_err.append(epoch_loss)\n",
    "\n",
    "            print(f'{phase} Loss: {epoch_loss:.4f} Acc: {epoch_acc:.4f}')\n",
    "            with open (logfilepath, 'a') as file:\n",
    "              file.writelines(f'{phase} Loss: {epoch_loss:.4f} Acc: {epoch_acc:.4f}')\n",
    "              file.writelines('\\n')\n",
    "\n",
    "            # deep copy the model\n",
    "            if phase == 'val' and epoch_acc > best_acc:\n",
    "                best_acc = epoch_acc\n",
    "                best_model_wts = copy.deepcopy(model.state_dict())\n",
    "                best_valLoss = epoch_loss\n",
    "\n",
    "        print()\n",
    "\n",
    "    time_elapsed = time.time() - since\n",
    "    print(f'Training complete in {time_elapsed // 60:.0f}m {time_elapsed % 60:.0f}s')\n",
    "    print(f'Best val Acc: {best_acc:4f} Validation loss : {best_valLoss:4f}')\n",
    "    with open (logfilepath, 'a') as file:\n",
    "              file.writelines(f'Training complete in {time_elapsed // 60:.0f}m {time_elapsed % 60:.0f}s')\n",
    "              file.writelines('\\n')\n",
    "              file.writelines(f'Best val Acc: {best_acc:4f} Validation loss : {best_valLoss:4f}')\n",
    "              file.writelines('\\n')\n",
    "              file.writelines(f'Training error = {train_err}')\n",
    "              file.writelines('\\n')\n",
    "              file.writelines(f'Validation error = {val_err}')\n",
    "              file.writelines('\\n')\n",
    "\n",
    "\n",
    "    # load best model weights\n",
    "    model.load_state_dict(best_model_wts)\n",
    "    return model"
   ]
  },
  {
   "cell_type": "code",
   "execution_count": 7,
   "metadata": {
    "executionInfo": {
     "elapsed": 8044,
     "status": "ok",
     "timestamp": 1689673719536,
     "user": {
      "displayName": "Mangaldeep Banerjee",
      "userId": "18312103571637317738"
     },
     "user_tz": -330
    },
    "id": "2NiNagp-QKTj"
   },
   "outputs": [],
   "source": [
    "model_ft = models.efficientnet_b3(weights=None)\n",
    "num_ftrs = model_ft.classifier[1].in_features\n",
    "model_ft.classifier[1] = nn.Linear(num_ftrs, 2)\n",
    "\n",
    "if avg_weight_dir != '':\n",
    "  model_ft.load_state_dict(torch.load(avg_weight_dir,map_location = 'cpu'))\n",
    "\n",
    "\n",
    "model_ft = model_ft.to(device)\n",
    "model_ft.train()\n",
    "criterion = nn.CrossEntropyLoss()\n",
    "\n",
    "# Observe that all parameters are being optimized\n",
    "#optimizer_ft = optim.SGD(model_ft.parameters(), lr=learningRate, momentum=0.9)\n",
    "optimizer_ft = optim.Adam(model_ft.parameters(), lr=learningRate,weight_decay=weightDecay) ## till 4th ,weight_decay=0.005\n",
    "# Decay LR by a factor of 0.1 every 7 epochs\n",
    "exp_lr_scheduler = lr_scheduler.StepLR(optimizer_ft, step_size=7, gamma=0.5)\n",
    "\n",
    "with open (logfilepath, 'a') as file:\n",
    "    file.writelines(f\"Learning rate {learningRate} , Weight decay {weightDecay}\")\n",
    "    file.writelines('\\n')\n",
    "\n",
    "\n",
    "model_gl = copy.deepcopy(model_ft)"
   ]
  },
  {
   "cell_type": "code",
   "execution_count": 8,
   "metadata": {
    "executionInfo": {
     "elapsed": 14,
     "status": "ok",
     "timestamp": 1689673719536,
     "user": {
      "displayName": "Mangaldeep Banerjee",
      "userId": "18312103571637317738"
     },
     "user_tz": -330
    },
    "id": "gpzqVi5Xeowg"
   },
   "outputs": [],
   "source": [
    "#print(model_ft)"
   ]
  },
  {
   "cell_type": "code",
   "execution_count": 9,
   "metadata": {
    "colab": {
     "base_uri": "https://localhost:8080/"
    },
    "executionInfo": {
     "elapsed": 1805668,
     "status": "ok",
     "timestamp": 1689675525191,
     "user": {
      "displayName": "Mangaldeep Banerjee",
      "userId": "18312103571637317738"
     },
     "user_tz": -330
    },
    "id": "_7uDcdZ_QKWb",
    "outputId": "37e4b3fb-5706-4675-b539-ed91849f0ece"
   },
   "outputs": [
    {
     "name": "stdout",
     "output_type": "stream",
     "text": [
      "Epoch 0/9\n",
      "----------\n"
     ]
    },
    {
     "name": "stdout",
     "output_type": "stream",
     "text": [
      "train Loss: 0.1637 Acc: 0.9499\n",
      "val Loss: 0.2071 Acc: 0.9400\n",
      "\n",
      "Epoch 1/9\n",
      "----------\n",
      "train Loss: 0.1143 Acc: 0.9599\n",
      "val Loss: 0.2449 Acc: 0.9400\n",
      "\n",
      "Epoch 2/9\n",
      "----------\n",
      "train Loss: 0.1015 Acc: 0.9585\n",
      "val Loss: 0.6564 Acc: 0.8700\n",
      "\n",
      "Epoch 3/9\n",
      "----------\n",
      "train Loss: 0.1119 Acc: 0.9542\n",
      "val Loss: 0.2260 Acc: 0.9100\n",
      "\n",
      "Epoch 4/9\n",
      "----------\n",
      "train Loss: 0.1110 Acc: 0.9570\n",
      "val Loss: 0.1119 Acc: 0.9600\n",
      "\n",
      "Epoch 5/9\n",
      "----------\n",
      "train Loss: 0.1149 Acc: 0.9513\n",
      "val Loss: 0.1223 Acc: 0.9700\n",
      "\n",
      "Epoch 6/9\n",
      "----------\n",
      "train Loss: 0.0986 Acc: 0.9642\n",
      "val Loss: 0.2893 Acc: 0.8900\n",
      "\n",
      "Epoch 7/9\n",
      "----------\n",
      "train Loss: 0.1268 Acc: 0.9542\n",
      "val Loss: 0.1870 Acc: 0.9400\n",
      "\n",
      "Epoch 8/9\n",
      "----------\n",
      "train Loss: 0.1190 Acc: 0.9470\n",
      "val Loss: 0.0942 Acc: 0.9500\n",
      "\n",
      "Epoch 9/9\n",
      "----------\n",
      "train Loss: 0.0923 Acc: 0.9656\n",
      "val Loss: 0.1276 Acc: 0.9400\n",
      "\n",
      "Training complete in 1m 22s\n",
      "Best val Acc: 0.970000 Validation loss : 0.122254\n"
     ]
    }
   ],
   "source": [
    "model_ft = train_model(model_ft, criterion, optimizer_ft, exp_lr_scheduler,\n",
    "                       num_epochs=epoch,mu=mu_val)"
   ]
  },
  {
   "cell_type": "code",
   "execution_count": null,
   "metadata": {
    "executionInfo": {
     "elapsed": 15,
     "status": "ok",
     "timestamp": 1689675525192,
     "user": {
      "displayName": "Mangaldeep Banerjee",
      "userId": "18312103571637317738"
     },
     "user_tz": -330
    },
    "id": "CK-hlHF3enMp"
   },
   "outputs": [],
   "source": []
  },
  {
   "cell_type": "code",
   "execution_count": 10,
   "metadata": {
    "executionInfo": {
     "elapsed": 5,
     "status": "ok",
     "timestamp": 1689675525192,
     "user": {
      "displayName": "Mangaldeep Banerjee",
      "userId": "18312103571637317738"
     },
     "user_tz": -330
    },
    "id": "B1_MaB_GQKZL"
   },
   "outputs": [],
   "source": [
    "model_weight_dir = base_weight_dir+'/' +str(method)+'_'+str(dataset)+'_'+str(i)+'_'+str(sample_size)+'.pth'\n",
    "torch.save(model_ft.state_dict(), model_weight_dir)"
   ]
  },
  {
   "cell_type": "code",
   "execution_count": 11,
   "metadata": {
    "colab": {
     "base_uri": "https://localhost:8080/"
    },
    "executionInfo": {
     "elapsed": 57636,
     "status": "ok",
     "timestamp": 1689675582824,
     "user": {
      "displayName": "Mangaldeep Banerjee",
      "userId": "18312103571637317738"
     },
     "user_tz": -330
    },
    "id": "8DYDd5CnQKcK",
    "outputId": "91de4ec4-a8df-4389-8ce4-50a2e311de37"
   },
   "outputs": [
    {
     "name": "stdout",
     "output_type": "stream",
     "text": [
      "accuracy = 0.94 , precision = 0.94,recall = 0.92,fscore = 0.93,,auc_score = 0.99\n",
      "              precision    recall  f1-score   support\n",
      "\n",
      "           0       0.95      0.86      0.90        63\n",
      "           1       0.94      0.98      0.96       138\n",
      "\n",
      "    accuracy                           0.94       201\n",
      "   macro avg       0.94      0.92      0.93       201\n",
      "weighted avg       0.94      0.94      0.94       201\n",
      "\n"
     ]
    }
   ],
   "source": [
    "test_dataset = datasets.ImageFolder(test_dir, transform=data_transforms['val'])\n",
    "class_names = test_dataset.classes\n",
    "test_loader = torch.utils.data.DataLoader(\n",
    "        test_dataset,\n",
    "        batch_size=1,\n",
    "        num_workers=0,\n",
    "        shuffle=False\n",
    "    )\n",
    "model_ft.eval()\n",
    "with torch.no_grad():\n",
    "  y_true=[]\n",
    "  y_pred=[]\n",
    "  y_probas = []\n",
    "  for i, (inputs, labels) in enumerate(test_loader):\n",
    "    inputs = inputs.to(device)\n",
    "    labels = labels.to(device)\n",
    "    y_true.append(labels.detach().cpu().numpy())\n",
    "    model_ft.to(device)\n",
    "    outputs = model_ft(inputs)\n",
    "    outputs = nn.Softmax(dim=1)(outputs)\n",
    "    max, preds = torch.max(outputs, 1)\n",
    "    y_probas.append(outputs.cpu().numpy())\n",
    "    y_pred.append(int(preds.detach().cpu().numpy()))\n",
    "\n",
    "\n",
    "y_true = np.array(y_true)\n",
    "y_pred = np.array(y_pred)\n",
    "prob = np.array(y_probas)\n",
    "acc = accuracy_score(y_true,y_pred)\n",
    "y_probas = prob.reshape(prob.shape[0],prob.shape[2])\n",
    "precision,recall,fscore,_=precision_recall_fscore_support(y_true, y_pred, average='macro')\n",
    "auc_score = roc_auc_score(y_true, y_probas[:,1])\n",
    "precision,recall,fscore,_=precision_recall_fscore_support(y_true, y_pred, average='macro')\n",
    "print(f\"accuracy = {round(acc,2)} , precision = {round(precision,2)},recall = {round(recall,2)},fscore = {round(fscore,2)},,auc_score = {round(auc_score,2)}\")\n",
    "print(classification_report(y_true,y_pred))\n",
    "with open (logfilepath, 'a') as file:\n",
    "    file.writelines(f\"accuracy = {round(acc,2)} , precision = {round(precision,2)},recall = {round(recall,2)},fscore = {round(fscore,2)},,auc_score = {round(auc_score,2)}\")\n",
    "    file.writelines('\\n')\n",
    "    file.writelines(classification_report(y_true,y_pred))\n",
    "    file.writelines('\\n')"
   ]
  },
  {
   "cell_type": "code",
   "execution_count": 12,
   "metadata": {
    "executionInfo": {
     "elapsed": 6,
     "status": "ok",
     "timestamp": 1689675582825,
     "user": {
      "displayName": "Mangaldeep Banerjee",
      "userId": "18312103571637317738"
     },
     "user_tz": -330
    },
    "id": "nVLAjBcnfyKe"
   },
   "outputs": [],
   "source": [
    "loss = difference_models_norm_2(model_gl,model_ft)\n",
    "\n",
    "with open (logfilepath, 'a') as file:\n",
    "    file.writelines(f\"Distance from global - BreakHIS = {loss:.6f}\")\n",
    "    file.writelines('\\n')\n"
   ]
  },
  {
   "cell_type": "code",
   "execution_count": 13,
   "metadata": {
    "executionInfo": {
     "elapsed": 5,
     "status": "ok",
     "timestamp": 1689675582825,
     "user": {
      "displayName": "Mangaldeep Banerjee",
      "userId": "18312103571637317738"
     },
     "user_tz": -330
    },
    "id": "2jKIIy8TuHzQ"
   },
   "outputs": [
    {
     "name": "stdout",
     "output_type": "stream",
     "text": [
      "Distance from global - BreakHIS = 0.000818\n"
     ]
    }
   ],
   "source": [
    "print(f\"Distance from global - BreakHIS = {loss:.6f}\")"
   ]
  },
  {
   "cell_type": "code",
   "execution_count": null,
   "metadata": {},
   "outputs": [],
   "source": []
  }
 ],
 "metadata": {
  "accelerator": "GPU",
  "colab": {
   "provenance": []
  },
  "kernelspec": {
   "display_name": "Python 3 (ipykernel)",
   "language": "python",
   "name": "python3"
  },
  "language_info": {
   "codemirror_mode": {
    "name": "ipython",
    "version": 3
   },
   "file_extension": ".py",
   "mimetype": "text/x-python",
   "name": "python",
   "nbconvert_exporter": "python",
   "pygments_lexer": "ipython3",
   "version": "3.8.10"
  }
 },
 "nbformat": 4,
 "nbformat_minor": 1
}
