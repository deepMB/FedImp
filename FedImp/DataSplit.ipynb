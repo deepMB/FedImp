{
 "cells": [
  {
   "cell_type": "code",
   "execution_count": 2,
   "metadata": {},
   "outputs": [
    {
     "name": "stdout",
     "output_type": "stream",
     "text": [
      "Collecting split-folders\n",
      "  Downloading split_folders-0.5.1-py3-none-any.whl (8.4 kB)\n",
      "Installing collected packages: split-folders\n",
      "Successfully installed split-folders-0.5.1\n",
      "Note: you may need to restart the kernel to use updated packages.\n"
     ]
    }
   ],
   "source": [
    "pip install split-folders"
   ]
  },
  {
   "cell_type": "code",
   "execution_count": 1,
   "metadata": {},
   "outputs": [],
   "source": [
    "import splitfolders\n",
    "import os"
   ]
  },
  {
   "cell_type": "code",
   "execution_count": 2,
   "metadata": {},
   "outputs": [
    {
     "name": "stdout",
     "output_type": "stream",
     "text": [
      "['malignant', 'benign']\n"
     ]
    }
   ],
   "source": [
    "path = \"/DATA1/Mangaldeep/V2/Dataset/BreCaHaAD\"\n",
    "print(os.listdir(path))\n",
    "splitfolders.ratio(path,seed=1337, output=\"/DATA1/Mangaldeep/V2/Dataset/BreCaHAD_Splited\", ratio=(0.7, 0.1, 0.2))\n",
    "#(train:val:test)"
   ]
  },
  {
   "cell_type": "code",
   "execution_count": 3,
   "metadata": {},
   "outputs": [
    {
     "name": "stdout",
     "output_type": "stream",
     "text": [
      "['malignant', 'benign']\n"
     ]
    }
   ],
   "source": [
    "path = \"/DATA1/Mangaldeep/V2/Dataset/BreakHis40X\"\n",
    "print(os.listdir(path))\n",
    "splitfolders.ratio(path,seed=1337, output=\"/DATA1/Mangaldeep/V2/Dataset/BreakHis40X_Splited\", ratio=(0.7, 0.1, 0.2))\n",
    "#(train:val:test)"
   ]
  },
  {
   "cell_type": "code",
   "execution_count": 2,
   "metadata": {},
   "outputs": [
    {
     "name": "stdout",
     "output_type": "stream",
     "text": [
      "['val', 'test', 'train']\n"
     ]
    }
   ],
   "source": [
    "path = \"/DATA1/Mangaldeep/V2/Dataset/BreakHis40X_Splited\"\n",
    "print(os.listdir(path))\n",
    "splitfolders.ratio(path,seed=1337, output=\"/DATA1/Mangaldeep/V3/Dataset\", ratio=(0.5, 0.5))\n",
    "#(train:val:test)"
   ]
  },
  {
   "cell_type": "code",
   "execution_count": null,
   "metadata": {},
   "outputs": [],
   "source": []
  }
 ],
 "metadata": {
  "kernelspec": {
   "display_name": "Python 3",
   "language": "python",
   "name": "python3"
  },
  "language_info": {
   "codemirror_mode": {
    "name": "ipython",
    "version": 3
   },
   "file_extension": ".py",
   "mimetype": "text/x-python",
   "name": "python",
   "nbconvert_exporter": "python",
   "pygments_lexer": "ipython3",
   "version": "3.8.10"
  }
 },
 "nbformat": 4,
 "nbformat_minor": 2
}
