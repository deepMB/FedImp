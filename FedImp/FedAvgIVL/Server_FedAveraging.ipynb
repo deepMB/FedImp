{
 "cells": [
  {
   "cell_type": "code",
   "execution_count": 1,
   "metadata": {
    "colab": {
     "base_uri": "https://localhost:8080/"
    },
    "executionInfo": {
     "elapsed": 31565,
     "status": "ok",
     "timestamp": 1689823951527,
     "user": {
      "displayName": "Mangaldeep Banerjee",
      "userId": "13351218172527053541"
     },
     "user_tz": -330
    },
    "id": "WlGtWJCyxOXN",
    "outputId": "3e9f5866-dbdb-46cd-b6da-b373413043c5"
   },
   "outputs": [],
   "source": [
    "import os\n",
    "os.environ[\"CUDA_DEVICE_ORDER\"]=\"PCI_BUS_ID\"\n",
    "os.environ[\"CUDA_VISIBLE_DEVICES\"]=\"0\""
   ]
  },
  {
   "cell_type": "code",
   "execution_count": 2,
   "metadata": {
    "colab": {
     "base_uri": "https://localhost:8080/"
    },
    "executionInfo": {
     "elapsed": 5760,
     "status": "ok",
     "timestamp": 1689823957276,
     "user": {
      "displayName": "Mangaldeep Banerjee",
      "userId": "13351218172527053541"
     },
     "user_tz": -330
    },
    "id": "i0e2M1NzxTwT",
    "outputId": "f8253565-5190-4c66-b447-988b58da7b73"
   },
   "outputs": [
    {
     "data": {
      "text/plain": [
       "<contextlib.ExitStack at 0x7f69079b8790>"
      ]
     },
     "execution_count": 2,
     "metadata": {},
     "output_type": "execute_result"
    }
   ],
   "source": [
    "from __future__ import print_function, division\n",
    "import copy\n",
    "import torch\n",
    "import torch.nn as nn\n",
    "import torch.optim as optim\n",
    "from torch.optim import lr_scheduler\n",
    "import torch.backends.cudnn as cudnn\n",
    "import numpy as np\n",
    "import torchvision\n",
    "from torchvision import datasets, models, transforms\n",
    "from torchvision.transforms import ToTensor,Resize,Normalize,RandomHorizontalFlip,RandomVerticalFlip,CenterCrop\n",
    "from sklearn.metrics import accuracy_score,precision_recall_fscore_support,roc_curve,auc,roc_auc_score,classification_report\n",
    "import matplotlib.pyplot as plt\n",
    "import time\n",
    "import os\n",
    "import copy\n",
    "\n",
    "cudnn.benchmark = True\n",
    "plt.ion()   # interactive mode"
   ]
  },
  {
   "cell_type": "code",
   "execution_count": 3,
   "metadata": {},
   "outputs": [
    {
     "name": "stdout",
     "output_type": "stream",
     "text": [
      "1\n",
      "0\n"
     ]
    }
   ],
   "source": [
    "print(torch.cuda.device_count())\n",
    "print(torch.cuda.current_device())"
   ]
  },
  {
   "cell_type": "markdown",
   "metadata": {},
   "source": [
    "Run for the first iteration to generate base Global Model"
   ]
  },
  {
   "cell_type": "code",
   "execution_count": 4,
   "metadata": {
    "executionInfo": {
     "elapsed": 7,
     "status": "ok",
     "timestamp": 1689823957277,
     "user": {
      "displayName": "Mangaldeep Banerjee",
      "userId": "13351218172527053541"
     },
     "user_tz": -330
    },
    "id": "yX77wH7Txjnz"
   },
   "outputs": [],
   "source": [
    "\n",
    "method = 'FedAvgIVL'\n",
    "i = 10\n",
    "learningRate = 0.001\n",
    "c1  = 1/0.298793  ##BRACS1\n",
    "c2 = 1/0.302705 ##BRACS2\n",
    "c3 = 1/0.134646 ##BreakHis1\n",
    "c4 = 1/0.097750  ##BreakHis2\n",
    "#dd '''2525 246 1439'''\n",
    "base_weight_dir = '/DATA1/Mangaldeep/V3/Weight/FedAvgIVL'\n",
    "base_log_dir = '/DATA1/Mangaldeep/V3/Log/FedAvgIVL'\n",
    "avg_weight_dir = base_weight_dir+'/'+'avg'+str(i)+'.pth'\n",
    "logfilepath = base_log_dir+'/'+str(method)+'_'+str(i)+'.txt'\n",
    "if i >0 :\n",
    "    previous_avg_dir = base_weight_dir+'/'+'avg'+str(i-1)+'.pth'"
   ]
  },
  {
   "cell_type": "code",
   "execution_count": 5,
   "metadata": {},
   "outputs": [
    {
     "name": "stdout",
     "output_type": "stream",
     "text": [
      "cuda:0\n"
     ]
    }
   ],
   "source": [
    "seed = 42\n",
    "torch.manual_seed(seed)\n",
    "torch.cuda.manual_seed(seed)\n",
    "torch.backends.cudnn.deterministic = True\n",
    "\n",
    "device = torch.device(\"cuda:0\" if torch.cuda.is_available() else \"cpu\")\n",
    "print(device)\n",
    "\n",
    "if i == 0:\n",
    "    model_ft = models.efficientnet_b3(weights=None)\n",
    "    num_ftrs = model_ft.classifier[1].in_features\n",
    "    model_ft.classifier[1] = nn.Linear(num_ftrs, 2)\n",
    "    torch.save(model_ft.state_dict(),avg_weight_dir)"
   ]
  },
  {
   "cell_type": "code",
   "execution_count": null,
   "metadata": {},
   "outputs": [],
   "source": []
  },
  {
   "cell_type": "code",
   "execution_count": 6,
   "metadata": {
    "executionInfo": {
     "elapsed": 5,
     "status": "ok",
     "timestamp": 1689823957277,
     "user": {
      "displayName": "Mangaldeep Banerjee",
      "userId": "13351218172527053541"
     },
     "user_tz": -330
    },
    "id": "d7qcvD_CrZ0V"
   },
   "outputs": [],
   "source": [
    "data1_dir = '/DATA1/Mangaldeep/V3/Dataset/BRACS1/test'\n",
    "data2_dir = '/DATA1/Mangaldeep/V3/Dataset/BRACS2/test'\n",
    "data3_dir = '/DATA1/Mangaldeep/V3/Dataset/BreakHis1/test'\n",
    "data4_dir = '/DATA1/Mangaldeep/V3/Dataset/BreakHis2/test'"
   ]
  },
  {
   "cell_type": "code",
   "execution_count": 7,
   "metadata": {
    "executionInfo": {
     "elapsed": 6,
     "status": "ok",
     "timestamp": 1689823957278,
     "user": {
      "displayName": "Mangaldeep Banerjee",
      "userId": "13351218172527053541"
     },
     "user_tz": -330
    },
    "id": "q6jecl9El0Nw"
   },
   "outputs": [],
   "source": [
    "weight1_dir = '/DATA1/Mangaldeep/V3/Weight/FedAvgIVL/FedAvgIVL_BRACS1_'+str(i-1)+'_1323.pth'\n",
    "weight2_dir = '/DATA1/Mangaldeep/V3/Weight/FedAvgIVL/FedAvgIVL_BRACS2_'+str(i-1)+'_1323.pth'\n",
    "weight3_dir = '/DATA1/Mangaldeep/V3/Weight/FedAvgIVL/FedAvgIVL_BreakHis1_'+str(i-1)+'_697.pth'\n",
    "weight4_dir = '/DATA1/Mangaldeep/V3/Weight/FedAvgIVL/FedAvgIVL_BreakHis2_'+str(i-1)+'_698.pth'"
   ]
  },
  {
   "cell_type": "code",
   "execution_count": 8,
   "metadata": {
    "executionInfo": {
     "elapsed": 10414,
     "status": "ok",
     "timestamp": 1689823967687,
     "user": {
      "displayName": "Mangaldeep Banerjee",
      "userId": "13351218172527053541"
     },
     "user_tz": -330
    },
    "id": "ENR-E4-kxoDD"
   },
   "outputs": [
    {
     "name": "stdout",
     "output_type": "stream",
     "text": [
      "1.0\n"
     ]
    }
   ],
   "source": [
    "weight1 = torch.load(weight1_dir,map_location=torch.device('cpu'))\n",
    "weight2 = torch.load(weight2_dir,map_location=torch.device('cpu'))\n",
    "weight3 = torch.load(weight3_dir,map_location=torch.device('cpu'))\n",
    "weight4 = torch.load(weight4_dir,map_location=torch.device('cpu'))\n",
    "weight_avg = torch.load(weight3_dir,map_location=torch.device('cpu'))\n",
    "\n",
    "\n",
    "total = c1 + c2+ c3 +c4\n",
    "c1x = c1/total\n",
    "c2x = c2/total\n",
    "c3x = c3/total\n",
    "c4x = c4/total\n",
    "print(c1x+c2x+c3x+c4x)\n",
    "\n",
    "\n",
    "\n",
    "for key in weight1:\n",
    "  weight_avg[key] = c1x*weight1[key] + c3x*weight3[key] + c2x*weight2[key] + c4x*weight4[key]"
   ]
  },
  {
   "cell_type": "code",
   "execution_count": 9,
   "metadata": {
    "executionInfo": {
     "elapsed": 20,
     "status": "ok",
     "timestamp": 1689823967689,
     "user": {
      "displayName": "Mangaldeep Banerjee",
      "userId": "13351218172527053541"
     },
     "user_tz": -330
    },
    "id": "175iKbZgxrOr"
   },
   "outputs": [],
   "source": [
    "torch.save(weight_avg,avg_weight_dir)"
   ]
  },
  {
   "cell_type": "code",
   "execution_count": 10,
   "metadata": {
    "executionInfo": {
     "elapsed": 15,
     "status": "ok",
     "timestamp": 1689823967691,
     "user": {
      "displayName": "Mangaldeep Banerjee",
      "userId": "13351218172527053541"
     },
     "user_tz": -330
    },
    "id": "LTt4f-3ExsoD"
   },
   "outputs": [],
   "source": [
    "data_transforms = {\n",
    "    'train': transforms.Compose([\n",
    "        Resize((256,256),interpolation=transforms.InterpolationMode.BICUBIC),\n",
    "        transforms.RandomCrop(224),\n",
    "        #transforms.RandomResizedCrop(size = (224,224)),\n",
    "        #transforms.CenterCrop(224),\n",
    "        transforms.RandomHorizontalFlip(p=0.3),\n",
    "        transforms.RandomVerticalFlip(p=0.3),\n",
    "        transforms.ToTensor(),\n",
    "        transforms.Normalize([0.485, 0.456, 0.406], [0.229, 0.224, 0.225])\n",
    "    ]),\n",
    "    'val': transforms.Compose([\n",
    "        #transforms.Resize(256),\n",
    "        Resize((256,256),interpolation=transforms.InterpolationMode.BICUBIC),\n",
    "        transforms.CenterCrop(224),\n",
    "        transforms.ToTensor(),\n",
    "        transforms.Normalize([0.485, 0.456, 0.406], [0.229, 0.224, 0.225])\n",
    "    ]),\n",
    "}\n",
    "\n",
    "model_ft = models.efficientnet_b3(weights=None)\n",
    "num_ftrs = model_ft.classifier[1].in_features\n",
    "model_ft.classifier[1] = nn.Linear(num_ftrs, 2)\n",
    "\n",
    "model_ft.load_state_dict(torch.load(avg_weight_dir))\n",
    "#model_ft = model_ft.to(device)\n",
    "\n",
    "\n",
    "model_ft = model_ft.to(device)\n",
    "model_ft.eval()\n",
    "criterion = nn.CrossEntropyLoss()\n",
    "\n",
    "# Observe that all parameters are being optimized\n",
    "#optimizer_ft = optim.SGD(model_ft.parameters(), lr=0.0001, momentum=0.9)\n",
    "optimizer_ft = optim.Adam(model_ft.parameters(), lr=0.0002,weight_decay=0.00001)\n",
    "# Decay LR by a factor of 0.1 every 7 epochs\n",
    "exp_lr_scheduler = lr_scheduler.StepLR(optimizer_ft, step_size=7, gamma=0.1)"
   ]
  },
  {
   "cell_type": "markdown",
   "metadata": {},
   "source": [
    "# BreakHis1"
   ]
  },
  {
   "cell_type": "code",
   "execution_count": 11,
   "metadata": {
    "executionInfo": {
     "elapsed": 14,
     "status": "ok",
     "timestamp": 1689823967691,
     "user": {
      "displayName": "Mangaldeep Banerjee",
      "userId": "13351218172527053541"
     },
     "user_tz": -330
    },
    "id": "LyfJgMSMxJQb"
   },
   "outputs": [
    {
     "name": "stdout",
     "output_type": "stream",
     "text": [
      "BreakHis1 accuracy = 0.865 , precision = 0.9066,recall = 0.79,fscore = 0.8212,,auc_score = 0.9877\n",
      "              precision    recall  f1-score   support\n",
      "\n",
      "           0       0.97      0.59      0.73        63\n",
      "           1       0.84      0.99      0.91       137\n",
      "\n",
      "    accuracy                           0.86       200\n",
      "   macro avg       0.91      0.79      0.82       200\n",
      "weighted avg       0.88      0.86      0.85       200\n",
      "\n"
     ]
    }
   ],
   "source": [
    "test_dataset = datasets.ImageFolder(data3_dir, transform=data_transforms['val'])\n",
    "class_names = test_dataset.classes\n",
    "test_loader = torch.utils.data.DataLoader(\n",
    "        test_dataset,\n",
    "        batch_size=1,\n",
    "        num_workers=0,\n",
    "        shuffle=False\n",
    "    )\n",
    "model_ft.eval()\n",
    "with torch.no_grad():\n",
    "  y_true=[]\n",
    "  y_pred=[]\n",
    "  y_probas = []\n",
    "  for i, (inputs, labels) in enumerate(test_loader):\n",
    "    inputs = inputs.to(device)\n",
    "    labels = labels.to(device)\n",
    "    y_true.append(labels.detach().cpu().numpy())\n",
    "    model_ft.to(device)\n",
    "    outputs = model_ft(inputs)\n",
    "    outputs = nn.Softmax(dim=1)(outputs)\n",
    "    max, preds = torch.max(outputs, 1)\n",
    "    y_probas.append(outputs.cpu().numpy())\n",
    "    y_pred.append(int(preds.detach().cpu().numpy()))\n",
    "\n",
    "\n",
    "y_true = np.array(y_true)\n",
    "y_pred = np.array(y_pred)\n",
    "prob = np.array(y_probas)\n",
    "acc = accuracy_score(y_true,y_pred)\n",
    "y_probas = prob.reshape(prob.shape[0],prob.shape[2])\n",
    "precision,recall,fscore,_=precision_recall_fscore_support(y_true, y_pred, average='macro')\n",
    "auc_score = roc_auc_score(y_true, y_probas[:,1])\n",
    "precision,recall,fscore,_=precision_recall_fscore_support(y_true, y_pred, average='macro')\n",
    "print(f\"BreakHis1 accuracy = {round(acc,4)} , precision = {round(precision,4)},recall = {round(recall,4)},fscore = {round(fscore,4)},,auc_score = {round(auc_score,4)}\")\n",
    "print(classification_report(y_true,y_pred))\n",
    "with open (logfilepath, 'a') as file:\n",
    "    file.writelines(f\"Learning rate {learningRate}\")\n",
    "    file.writelines('\\n')\n",
    "    file.writelines(data3_dir)\n",
    "    file.writelines('\\n')\n",
    "    file.writelines(f\"BreakHis1 accuracy = {round(acc,4)} , precision = {round(precision,4)},recall = {round(recall,4)},fscore = {round(fscore,4)},auc_score = {round(auc_score,4)}\")\n",
    "    file.writelines('\\n')\n",
    "    file.writelines(classification_report(y_true,y_pred))\n",
    "    file.writelines('\\n')"
   ]
  },
  {
   "cell_type": "markdown",
   "metadata": {},
   "source": [
    "# BreakHis2"
   ]
  },
  {
   "cell_type": "code",
   "execution_count": 12,
   "metadata": {
    "executionInfo": {
     "elapsed": 843,
     "status": "ok",
     "timestamp": 1689823968523,
     "user": {
      "displayName": "Mangaldeep Banerjee",
      "userId": "13351218172527053541"
     },
     "user_tz": -330
    },
    "id": "GShBP0gnxuhS"
   },
   "outputs": [
    {
     "name": "stdout",
     "output_type": "stream",
     "text": [
      "BreakHis2 accuracy = 0.8507 , precision = 0.9107,recall = 0.7619,fscore = 0.7947,,auc_score = 0.9777\n",
      "              precision    recall  f1-score   support\n",
      "\n",
      "           0       1.00      0.52      0.69        63\n",
      "           1       0.82      1.00      0.90       138\n",
      "\n",
      "    accuracy                           0.85       201\n",
      "   macro avg       0.91      0.76      0.79       201\n",
      "weighted avg       0.88      0.85      0.83       201\n",
      "\n"
     ]
    }
   ],
   "source": [
    "test_dataset = datasets.ImageFolder(data4_dir, transform=data_transforms['val'])\n",
    "class_names = test_dataset.classes\n",
    "test_loader = torch.utils.data.DataLoader(\n",
    "        test_dataset,\n",
    "        batch_size=1,\n",
    "        num_workers=0,\n",
    "        shuffle=False\n",
    "    )\n",
    "model_ft.eval()\n",
    "with torch.no_grad():\n",
    "  y_true=[]\n",
    "  y_pred=[]\n",
    "  y_probas = []\n",
    "  for i, (inputs, labels) in enumerate(test_loader):\n",
    "    inputs = inputs.to(device)\n",
    "    labels = labels.to(device)\n",
    "    y_true.append(labels.detach().cpu().numpy())\n",
    "    model_ft.to(device)\n",
    "    outputs = model_ft(inputs)\n",
    "    outputs = nn.Softmax(dim=1)(outputs)\n",
    "    max, preds = torch.max(outputs, 1)\n",
    "    y_probas.append(outputs.cpu().numpy())\n",
    "    y_pred.append(int(preds.detach().cpu().numpy()))\n",
    "\n",
    "\n",
    "y_true = np.array(y_true)\n",
    "y_pred = np.array(y_pred)\n",
    "prob = np.array(y_probas)\n",
    "acc = accuracy_score(y_true,y_pred)\n",
    "y_probas = prob.reshape(prob.shape[0],prob.shape[2])\n",
    "precision,recall,fscore,_=precision_recall_fscore_support(y_true, y_pred, average='macro')\n",
    "auc_score = roc_auc_score(y_true, y_probas[:,1])\n",
    "precision,recall,fscore,_=precision_recall_fscore_support(y_true, y_pred, average='macro')\n",
    "print(f\"BreakHis2 accuracy = {round(acc,4)} , precision = {round(precision,4)},recall = {round(recall,4)},fscore = {round(fscore,4)},,auc_score = {round(auc_score,4)}\")\n",
    "print(classification_report(y_true,y_pred))\n",
    "with open (logfilepath, 'a') as file:\n",
    "    file.writelines(f\"Learning rate {learningRate}\")\n",
    "    file.writelines('\\n')\n",
    "    file.writelines(data3_dir)\n",
    "    file.writelines('\\n')\n",
    "    file.writelines(f\"BreakHis2 accuracy = {round(acc,4)} , precision = {round(precision,4)},recall = {round(recall,4)},fscore = {round(fscore,4)},auc_score = {round(auc_score,4)}\")\n",
    "    file.writelines('\\n')\n",
    "    file.writelines(classification_report(y_true,y_pred))\n",
    "    file.writelines('\\n')\n"
   ]
  },
  {
   "cell_type": "markdown",
   "metadata": {},
   "source": [
    "# BRACS1"
   ]
  },
  {
   "cell_type": "code",
   "execution_count": 13,
   "metadata": {
    "executionInfo": {
     "elapsed": 5,
     "status": "ok",
     "timestamp": 1689823968524,
     "user": {
      "displayName": "Mangaldeep Banerjee",
      "userId": "13351218172527053541"
     },
     "user_tz": -330
    },
    "id": "7gFVXQ7Hx6yD"
   },
   "outputs": [
    {
     "name": "stdout",
     "output_type": "stream",
     "text": [
      "BRACS1 accuracy = 0.5049 , precision = 0.667,recall = 0.577,fscore = 0.463,,auc_score = 0.7444\n",
      "              precision    recall  f1-score   support\n",
      "\n",
      "           0       0.88      0.19      0.31       121\n",
      "           1       0.45      0.96      0.61        83\n",
      "\n",
      "    accuracy                           0.50       204\n",
      "   macro avg       0.67      0.58      0.46       204\n",
      "weighted avg       0.71      0.50      0.44       204\n",
      "\n"
     ]
    }
   ],
   "source": [
    "test_dataset = datasets.ImageFolder(data1_dir, transform=data_transforms['val'])\n",
    "class_names = test_dataset.classes\n",
    "test_loader = torch.utils.data.DataLoader(\n",
    "        test_dataset,\n",
    "        batch_size=1,\n",
    "        num_workers=0,\n",
    "        shuffle=False\n",
    "    )\n",
    "model_ft.eval()\n",
    "with torch.no_grad():\n",
    "  y_true=[]\n",
    "  y_pred=[]\n",
    "  y_probas = []\n",
    "  for i, (inputs, labels) in enumerate(test_loader):\n",
    "    inputs = inputs.to(device)\n",
    "    labels = labels.to(device)\n",
    "    y_true.append(labels.detach().cpu().numpy())\n",
    "    model_ft.to(device)\n",
    "    outputs = model_ft(inputs)\n",
    "    outputs = nn.Softmax(dim=1)(outputs)\n",
    "    max, preds = torch.max(outputs, 1)\n",
    "    y_probas.append(outputs.cpu().numpy())\n",
    "    y_pred.append(int(preds.detach().cpu().numpy()))\n",
    "\n",
    "\n",
    "y_true = np.array(y_true)\n",
    "y_pred = np.array(y_pred)\n",
    "prob = np.array(y_probas)\n",
    "acc = accuracy_score(y_true,y_pred)\n",
    "y_probas = prob.reshape(prob.shape[0],prob.shape[2])\n",
    "precision,recall,fscore,_=precision_recall_fscore_support(y_true, y_pred, average='macro')\n",
    "auc_score = roc_auc_score(y_true, y_probas[:,1])\n",
    "precision,recall,fscore,_=precision_recall_fscore_support(y_true, y_pred, average='macro')\n",
    "print(f\"BRACS1 accuracy = {round(acc,4)} , precision = {round(precision,4)},recall = {round(recall,4)},fscore = {round(fscore,4)},,auc_score = {round(auc_score,4)}\")\n",
    "print(classification_report(y_true,y_pred))\n",
    "with open (logfilepath, 'a') as file:\n",
    "    file.writelines(data1_dir)\n",
    "    file.writelines('\\n')\n",
    "    file.writelines(f\"BRACS1 accuracy = {round(acc,4)} , precision = {round(precision,4)},recall = {round(recall,4)},fscore = {round(fscore,4)},,auc_score = {round(auc_score,4)}\")\n",
    "    file.writelines('\\n')\n",
    "    file.writelines(classification_report(y_true,y_pred))\n",
    "    file.writelines('\\n')\n"
   ]
  },
  {
   "cell_type": "markdown",
   "metadata": {},
   "source": [
    "# BRACS2"
   ]
  },
  {
   "cell_type": "code",
   "execution_count": 14,
   "metadata": {
    "executionInfo": {
     "elapsed": 5,
     "status": "ok",
     "timestamp": 1689823968524,
     "user": {
      "displayName": "Mangaldeep Banerjee",
      "userId": "13351218172527053541"
     },
     "user_tz": -330
    },
    "id": "sx6qab0nj3OV"
   },
   "outputs": [
    {
     "name": "stdout",
     "output_type": "stream",
     "text": [
      "BRACS2 accuracy = 0.4902 , precision = 0.6953,recall = 0.5684,fscore = 0.4345,,auc_score = 0.7151\n",
      "              precision    recall  f1-score   support\n",
      "\n",
      "           0       0.95      0.15      0.26       121\n",
      "           1       0.44      0.99      0.61        83\n",
      "\n",
      "    accuracy                           0.49       204\n",
      "   macro avg       0.70      0.57      0.43       204\n",
      "weighted avg       0.74      0.49      0.40       204\n",
      "\n"
     ]
    }
   ],
   "source": [
    "test_dataset = datasets.ImageFolder(data2_dir, transform=data_transforms['val'])\n",
    "class_names = test_dataset.classes\n",
    "test_loader = torch.utils.data.DataLoader(\n",
    "        test_dataset,\n",
    "        batch_size=1,\n",
    "        num_workers=0,\n",
    "        shuffle=False\n",
    "    )\n",
    "model_ft.eval()\n",
    "with torch.no_grad():\n",
    "  y_true=[]\n",
    "  y_pred=[]\n",
    "  y_probas = []\n",
    "  for i, (inputs, labels) in enumerate(test_loader):\n",
    "    inputs = inputs.to(device)\n",
    "    labels = labels.to(device)\n",
    "    y_true.append(labels.detach().cpu().numpy())\n",
    "    model_ft.to(device)\n",
    "    outputs = model_ft(inputs)\n",
    "    outputs = nn.Softmax(dim=1)(outputs)\n",
    "    max, preds = torch.max(outputs, 1)\n",
    "    y_probas.append(outputs.cpu().numpy())\n",
    "    y_pred.append(int(preds.detach().cpu().numpy()))\n",
    "\n",
    "\n",
    "y_true = np.array(y_true)\n",
    "y_pred = np.array(y_pred)\n",
    "prob = np.array(y_probas)\n",
    "acc = accuracy_score(y_true,y_pred)\n",
    "y_probas = prob.reshape(prob.shape[0],prob.shape[2])\n",
    "precision,recall,fscore,_=precision_recall_fscore_support(y_true, y_pred, average='macro')\n",
    "auc_score = roc_auc_score(y_true, y_probas[:,1])\n",
    "precision,recall,fscore,_=precision_recall_fscore_support(y_true, y_pred, average='macro')\n",
    "print(f\"BRACS2 accuracy = {round(acc,4)} , precision = {round(precision,4)},recall = {round(recall,4)},fscore = {round(fscore,4)},,auc_score = {round(auc_score,4)}\")\n",
    "print(classification_report(y_true,y_pred))\n",
    "with open (logfilepath, 'a') as file:\n",
    "    file.writelines(data1_dir)\n",
    "    file.writelines('\\n')\n",
    "    file.writelines(f\"BRACS2 accuracy = {round(acc,4)} , precision = {round(precision,4)},recall = {round(recall,4)},fscore = {round(fscore,4)},,auc_score = {round(auc_score,4)}\")\n",
    "    file.writelines('\\n')\n",
    "    file.writelines(classification_report(y_true,y_pred))\n",
    "    file.writelines('\\n')\n"
   ]
  },
  {
   "cell_type": "code",
   "execution_count": null,
   "metadata": {
    "executionInfo": {
     "elapsed": 6909,
     "status": "ok",
     "timestamp": 1689823975429,
     "user": {
      "displayName": "Mangaldeep Banerjee",
      "userId": "13351218172527053541"
     },
     "user_tz": -330
    },
    "id": "Ud6-9ZX6TYAD"
   },
   "outputs": [],
   "source": []
  }
 ],
 "metadata": {
  "accelerator": "GPU",
  "colab": {
   "provenance": []
  },
  "gpuClass": "standard",
  "kernelspec": {
   "display_name": "Python 3 (ipykernel)",
   "language": "python",
   "name": "python3"
  },
  "language_info": {
   "codemirror_mode": {
    "name": "ipython",
    "version": 3
   },
   "file_extension": ".py",
   "mimetype": "text/x-python",
   "name": "python",
   "nbconvert_exporter": "python",
   "pygments_lexer": "ipython3",
   "version": "3.8.10"
  }
 },
 "nbformat": 4,
 "nbformat_minor": 1
}
